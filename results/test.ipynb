{
 "cells": [
  {
   "cell_type": "markdown",
   "source": [
    "# test\n",
    "## MNIST Data Mining Algorithm Comparison"
   ],
   "metadata": {}
  },
  {
   "cell_type": "code",
   "source": [
    "# Imports for CNN Algorithm\n",
    "from keras import Input\n",
    "from keras.models import Model\n",
    "from keras.layers import Conv2D, Dense, Dropout, Flatten, MaxPooling2D, Normalization\n",
    "from tensorflow.keras.utils import to_categorical
   ],
   "metadata": {}
  },
  {
   "cell_type": "code",
   "source": [
    "# Imports for KNN Algorithm\n",
    "from sklearn.model_selection import cross_val_score\n",
    "from sklearn.neighbors import KNeighborsClassifier\n",
    "from sklearn.metrics import accuracy_score
   ],
   "metadata": {}
  },
  {
   "cell_type": "code",
   "source": [
    "# Imports for Random Forest Algorithm\n",
    "from sklearn.model_selection import cross_val_score\n",
    "from sklearn.ensemble import RandomForestClassifier\n",
    "from sklearn.metrics import accuracy_score
   ],
   "metadata": {}
  },
  {
   "cell_type": "code",
   "source": [
    "# Imports for SVM Algorithm\n",
    "from sklearn.model_selection import cross_val_score\n",
    "from sklearn.model_selection import LinearSVC\n",

   ],
   "metadata": {}
  },
  {
   "cell_type": "code",
   "source": [
    "# Import for Pandas\n",
    "import pandas\n"

   ],
   "metadata": {}
  },
  {
   "cell_type": "code",
   "source": [
    "# Import for data selection\n",
    "from sklearn.model_selection import train_test_split\n"

   ],
   "metadata": {}
  },
  {
   "cell_type": "code",
   "source": [
    "# Import for data acquisition\n",
    "import pandas as pd\n"

   ],
   "metadata": {}
  },
  {
   "cell_type": "code",
   "source": [
    "# Import for data preprocessing\n",
    "import numpy as np\n"

   ],
   "metadata": {}
  },
  {
   "cell_type": "code",
   "source": [
    "# Import for data visualization\n",
    "import matplotlib.pyplot as plt\n",
    "import time\n",

   ],
   "metadata": {}
  },
  {
   "cell_type": "markdown",
   "source": [
### null

   ],
   "metadata": {}
  },
  {
   "cell_type": "code",
   "source": [
    "# Data processing "null\n\n"
    ""# Data acquisition \n"
    "bonjour = pd.read_csv(test)\n"
\n"
    ""# Data selection\n"
    "X_train, X_test, y_train, y_test = train_test_split(X, y, test_size = 0,200000, shuffle=False)\n"
\n"
    ""# Data preprocessing : reshape and normalization\n"
\n"
    "print(X_train)\n"

   ],
   "metadata": {}
  },
  {
   "cell_type": "markdown",
   "source": [
    "### randomForest\n",
    "\n",
    "null"
   ],
   "metadata": {}
  },
  {
   "cell_type": "code",
   "source": [
    "time1 = time.time()\n",
    "rand = RandomForestClassifier(n_estimators=5, max_depth=10)\n",
    "randomForest = cross_val_score(rand, X_train, Y_train, cv = 6)\n",
    "time2 = time.time()\n",
    "randomForest_time = time2-time1 * 1000.0\n",
    "randomForest_acc = randomForest.mean()"
   ],
   "metadata": {}
  },
  {
   "cell_type": "markdown",
   "source": [
    "### svm\n",
    "\n",
    "null"
   ],
   "metadata": {}
  },
  {
   "cell_type": "code",
   "source": [
    "time1 = time.time()\n",
    "sv = LinearSVC(C=0.0001)\n",
    "svm = cross_val_score(sv, X_train, Y_train, cv = 8)\n",
    "time2 = time.time()\n",
    "svm_time = time2-time1 * 1000.0\n",
    "svm_acc = svm.mean()"
   ],
   "metadata": {}
  },
  {
   "cell_type": "markdown",
   "source": [
    "### knn\n",
    "\n",
    "null"
   ],
   "metadata": {}
  },
  {
   "cell_type": "code",
   "source": [
    "time1 = time.time()\n",
    "knn = KNeighborsClassifier(n_neighbors=5)\n",
    "knn = cross_val_score(knn, X_train, Y_train, cv = 8)\n",
    "time2 = time.time()\n",
    "knn_time = time2-time1 * 1000.0\n",
    "knn_acc = knn.mean()"
   ],
   "metadata": {}
  },
  {
   "cell_type": "markdown",
   "source": [
    "### cnn\n",
    "\n",
    "null"
   ],
   "metadata": {}
  },
  {
   "cell_type": "code",
   "source": [
    "# building the ConvNet\n",
    "x0=Input(shape=(1,16,16))\n",
    "\n",
    "# layers\n",
    "x0 = Normalization()(x-1)\n",
    "x1 = Conv2D(32, kernel_size=(3, 3), activation='relu', padding='same')(x0)\n",
    "x2 = Dropout(0,500000)(x1)\n",
    "x3 = MaxPooling2D(pool_size=(2, 2), strides=(5, 5))(x2)\n",
    "x4 = Flatten()(x3)\n",
    "x5 = Dense(5, activation='relu')(x4)\n",
    "\n",
    "model=Model(inputs=x0,outputs=x6)\n",
    "\n",
    "# compiling and fitting the model\n",
    "time1 = time.time()\n",
    "model.compile(optimizer='rmsprop',loss='categorical_crossentropy',metrics=['accuracy'])\n",
    "history = model.fit(X_train,y_train,epochs=12,batch_size=15,validation_data=(X_test,y_test))\n",
    "time2 = time.time()\n",
    "cnn_acc = history.history["accuracy"]\n",
    "cnn_time = time2-time1 * 1000.0"
   ],
   "metadata": {}
  },
  {
   "cell_type": "markdown",
   "source": [
### null

   ],
   "metadata": {}
  },
  {
   "cell_type": "code",
   "source": [
    "names=[knn,svm]\n"
    "acc=[knn_acc,svm_acc]\n"
    "plt.figure(figsize=(10,8))\n",
    "graph = plt.barh(names,acc)
\n",
    "plt.xlabel('Accuracy')\n",
    "plt.ylabel('Models')"
   ],
   "metadata": {}
  }
 ],
 "metadata": {
  "kernelspec": {
   "display_name": "Python 3 (ipykernel)",
   "language": "python",
   "name": "python3"
  },
  "language_info": {
   "codemirror_mode": {
    "name": "ipython",
    "version": 3
   },
   "file_extension": ".py",
   "mimetype": "text/x-python",
   "name": "python",
   "nbconvert_exporter": "python",
   "pygments_lexer": "ipython3",
   "version": "3.6.8"
  }
 },
 "nbformat": 4,
 "nbformat_minor": 4
}
