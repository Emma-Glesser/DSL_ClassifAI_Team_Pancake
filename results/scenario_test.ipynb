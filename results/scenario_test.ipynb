{
 "cells": [
  {
   "cell_type": "markdown",
   "source": [
    "# scenario_test\n",
    "## MNIST Data Mining Algorithm Comparison"
   ],
   "metadata": {}
  },
  {
   "cell_type": "code",
   "source": [
    "# Imports for CNN Algorithm\n",
    "from keras import Input\n",
    "from keras.models import Model\n",
    "from keras.layers import Conv2D, Dense, Dropout, Flatten, MaxPooling2D, BatchNormalization\n",
    "from tensorflow.keras.utils import to_categorical"
   ],
   "metadata": {}
  },
  {
   "cell_type": "code",
   "source": [
    "# Imports for KNN Algorithm\n",
    "from sklearn.model_selection import cross_val_score\n",
    "from sklearn.neighbors import KNeighborsClassifier\n",
    "from sklearn.metrics import accuracy_score"
   ],
   "metadata": {}
  },
  {
   "cell_type": "code",
   "source": [
    "# Imports for Random Forest Algorithm\n",
    "from sklearn.model_selection import cross_val_score\n",
    "from sklearn.ensemble import RandomForestClassifier\n",
    "from sklearn.metrics import accuracy_score"
   ],
   "metadata": {}
  },
  {
   "cell_type": "code",
   "source": [
    "# Imports for SVM Algorithm\n",
    "from sklearn.model_selection import cross_val_score\n",
    "from sklearn.svm import LinearSVC"
   ],
   "metadata": {}
  },
  {
   "cell_type": "code",
   "source": [
    "# Import for data selection\n",
    "from sklearn.model_selection import train_test_split"
   ],
   "metadata": {}
  },
  {
   "cell_type": "code",
   "source": [
    "# Import for data acquisition\n",
    "import pandas as pd"
   ],
   "metadata": {}
  },
  {
   "cell_type": "code",
   "source": [
    "# Import for data preprocessing\n",
    "import numpy as np"
   ],
   "metadata": {}
  },
  {
   "cell_type": "code",
   "source": [
    "# Import for data visualization\n",
    "import matplotlib.pyplot as plt\n",
    "import time"
   ],
   "metadata": {}
  },
  {
   "cell_type": "markdown",
   "source": [
    "### Data processing\n",
    "\n",
    "Selection de 80% des données du jeu pour de l'entrainement et de 20% pour le test"
   ],
   "metadata": {}
  },
  {
   "cell_type": "code",
   "source": [
    "# Data acquisition\n",
    "dataset = pd.read_csv('/data/workspace_files/mnist_test.csv')\n \n"
,
    "# Data selection\n",
    "Y = dataset['label']\n",
    "X = dataset.drop(columns=['label'])\n",
    "X_train, X_test, Y_train, Y_test = train_test_split(X, Y, test_size = 0.20, shuffle=False)\n\n"
,
    "# Data preprocessing for CNN : reshape and normalization\n",
    "X_train_CNN, X_test_CNN, Y_train_CNN, Y_test_CNN = X_train, X_test, Y_train, Y_test\n",
    "X_train_CNN = X_train_CNN.values.reshape(-1, 28,28,1)\n",
    "X_test_CNN = X_test_CNN.values.reshape(-1, 28,28,1)\n"
,
    "X_train_CNN = X_train_CNN/(6)\n",
    "X_test_CNN = X_test_CNN/(6)\n"
,
    "Y_train_CNN = pd.get_dummies(Y_train_CNN).values\n",
    "Y_test_CNN = pd.get_dummies(Y_test_CNN).values\n"
,
        "print(X_train)\n"
,
        "print(X_test)\n"

   ],
   "metadata": {}
  },
  {
   "cell_type": "markdown",
   "source": [
    "### RandomForest\n",
    "\n",
    "Cet exemple montre une implémentation d'un algorithme de classification RandomForest"
   ],
   "metadata": {}
  },
  {
   "cell_type": "code",
   "source": [
    "time1 = time.time()\n",
    "rand = RandomForestClassifier(n_estimators=10, max_depth=10)\n",
    "RandomForest = cross_val_score(rand, X_train, Y_train, cv = 6)\n",
    "time2 = time.time()\n",
    "RandomForest_time = time2-time1 * 1000.0\n",
    "RandomForest_acc = RandomForest.mean()"
   ],
   "metadata": {}
  },
  {
   "cell_type": "markdown",
   "source": [
    "### SVM\n",
    "\n",
    "Cet exemple montre une implémentation d'un algorithme de classification SVM"
   ],
   "metadata": {}
  },
  {
   "cell_type": "code",
   "source": [
    "time1 = time.time()\n",
    "sv = LinearSVC(C=0.0001)\n",
    "SVM = cross_val_score(sv, X_train, Y_train, cv = 8)\n",
    "time2 = time.time()\n",
    "SVM_time = time2-time1 * 1000.0\n",
    "SVM_acc = SVM.mean()"
   ],
   "metadata": {}
  },
  {
   "cell_type": "markdown",
   "source": [
    "### KNN\n",
    "\n",
    "Cet exemple montre une implémentation d'un algorithme de classification KNN"
   ],
   "metadata": {}
  },
  {
   "cell_type": "code",
   "source": [
    "time1 = time.time()\n",
    "knn = KNeighborsClassifier(n_neighbors=5)\n",
    "KNN = cross_val_score(knn, X_train, Y_train, cv = 8)\n",
    "time2 = time.time()\n",
    "KNN_time = time2-time1 * 1000.0\n",
    "KNN_acc = KNN.mean()"
   ],
   "metadata": {}
  },
  {
   "cell_type": "markdown",
   "source": [
    "### CNN\n",
    "\n",
    "Cet exemple montre une implémentation d'un algorithme de classification CNN"
   ],
   "metadata": {}
  },
  {
   "cell_type": "code",
   "source": [
    "# building the ConvNet\n",
    "x0=Input(shape=(28,28,1))\n",
    "\n",
    "# layers\n",
    "x1 = Conv2D(32, kernel_size=(5, 5), activation='relu', padding='same')(x0)\n",
    "x2 = BatchNormalization()(x1)\n",
    "x3 = Conv2D(32, kernel_size=(5, 5), activation='relu', padding='same')(x2)\n",
    "x4 = BatchNormalization()(x3)\n",
    "x5 = MaxPooling2D(pool_size=(2, 2), strides=(2, 2))(x4)\n",
    "x6 = Dropout(0.25)(x5)\n",
    "x7 = Flatten()(x6)\n",
    "x8 = Dense(10, activation='softmax')(x7)\n",
    "\n",
    "model=Model(inputs=x0,outputs=x8)\n",
    "\n",
    "# compiling and fitting the model\n",
    "time1 = time.time()\n",
    "model.compile(optimizer='rmsprop',loss='categorical_crossentropy',metrics=['accuracy'])\n",
    "history = model.fit(X_train_CNN,Y_train_CNN,epochs=12,batch_size=15,validation_data=(X_test_CNN,Y_test_CNN))\n",
    "time2 = time.time()\n",
    "CNN_acc = 0\n",
    "for acc in history.history['accuracy'] :\n",
    "    CNN_acc += acc\n",
    "CNN_acc = CNN_acc/len(history.history['accuracy'])\n",
    "CNN_time = time2-time1 * 1000.0"
   ],
   "metadata": {}
  },
  {
   "cell_type": "markdown",
   "source": [
    "### Data visualization"
   ],
   "metadata": {}
  },
  {
   "cell_type": "markdown",
   "source": [
    "Visualize the accuracy results of the algorithms KNN and SVM "
   ],
   "metadata": {}
  },
  {
   "cell_type": "code",
   "source": [
    "names=['KNN','SVM']\n",
    "acc=[KNN_acc,SVM_acc]\n",
    "plt.figure(figsize=(10,8))\n",
    "graph = plt.barh(names,acc)\n",
    "plt.xlabel('Accuracy')\n",
    "plt.ylabel('Models')"
   ],
   "metadata": {}
  }
 ],
 "metadata": {
  "kernelspec": {
   "display_name": "Python 3 (ipykernel)",
   "language": "python",
   "name": "python3"
  },
  "language_info": {
   "codemirror_mode": {
    "name": "ipython",
    "version": 3
   },
   "file_extension": ".py",
   "mimetype": "text/x-python",
   "name": "python",
   "nbconvert_exporter": "python",
   "pygments_lexer": "ipython3",
   "version": "3.6.8"
  }
 },
 "nbformat": 4,
 "nbformat_minor": 4
}
